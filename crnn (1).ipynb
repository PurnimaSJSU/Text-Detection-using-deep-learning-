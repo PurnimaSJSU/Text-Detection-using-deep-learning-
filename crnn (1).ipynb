{
 "cells": [
  {
   "cell_type": "code",
   "execution_count": 1,
   "id": "ccb2cf57",
   "metadata": {},
   "outputs": [],
   "source": [
    "import os\n",
    "import cv2\n",
    "import torch\n",
    "import pickle\n",
    "import numpy as np\n",
    "import pandas as pd\n",
    "import torch.nn as nn\n",
    "import albumentations\n",
    "import matplotlib.pyplot as plt\n",
    "import torch.nn as nn\n",
    "\n",
    "\n",
    "from tqdm import tqdm\n",
    "from utils import load_obj, save_obj\n",
    "from sklearn.model_selection import train_test_split\n",
    "\n",
    "%matplotlib inline"
   ]
  },
  {
   "cell_type": "code",
   "execution_count": 2,
   "id": "b8286e8b",
   "metadata": {},
   "outputs": [],
   "source": [
    "class CRNN_data255(nn.Module):\n",
    "\n",
    "    def __init__(self, n_classes): # n_classes: number of unique characters in the dataset\n",
    "        \n",
    "        super(CRNN_data255, self).__init__()\n",
    "\n",
    "        self.relu = nn.LeakyReLU(0.2, inplace=True)\n",
    "\n",
    "        self.conv_1 = nn.Conv2d(3, 64, kernel_size=3, padding=1)\n",
    "        self.bn_1 = nn.BatchNorm2d(64)\n",
    "        self.pool_1 = nn.MaxPool2d((2, 2))\n",
    "\n",
    "        self.conv_2 = nn.Conv2d(64, 128, kernel_size=3, padding=1)\n",
    "        self.bn_2 = nn.BatchNorm2d(128)\n",
    "        self.pool_2 = nn.MaxPool2d((2, 2))\n",
    "\n",
    "        self.conv_3 = nn.Conv2d(128, 256, kernel_size=3, padding=1)\n",
    "        self.bn_3 = nn.BatchNorm2d(256)\n",
    "\n",
    "        self.conv_4 = nn.Conv2d(256, 256, kernel_size=3, padding=1)\n",
    "        self.bn_4 = nn.BatchNorm2d(256)\n",
    "        self.pool_4 = nn.MaxPool2d((2, 1))\n",
    "\n",
    "        self.conv_5 = nn.Conv2d(256, 512, kernel_size=3, padding=1)\n",
    "        self.bn_5 = nn.BatchNorm2d(512)\n",
    "\n",
    "        self.conv_6 = nn.Conv2d(512, 512, kernel_size=3, padding=1)\n",
    "        self.bn_6 = nn.BatchNorm2d(512)\n",
    "        self.pool_6 = nn.MaxPool2d((2, 1))\n",
    "\n",
    "        self.conv_7 = nn.Conv2d(512, 512, kernel_size=3, padding=1)\n",
    "        self.bn_7 = nn.BatchNorm2d(512)\n",
    "\n",
    "        self.linear_1 = nn.Linear(1024, 64)\n",
    "        self.linear_2 = nn.Linear(64, 64)\n",
    "\n",
    "        self.rnn_1 = nn.GRU(64, 128, num_layers=2,\n",
    "                            bidirectional=True,\n",
    "                            dropout=0.25,\n",
    "                            batch_first=True)\n",
    "        self.rnn_2 = nn.GRU(256, 64, num_layers=2,\n",
    "                            bidirectional=True,\n",
    "                            dropout=0.25,\n",
    "                            batch_first=True)\n",
    "\n",
    "        self.dense = nn.Linear(128, n_classes + 1)\n",
    "\n",
    "    def forward(self, images):\n",
    "        x = self.conv_1(images)\n",
    "        x = self.bn_1(x)\n",
    "        x = self.relu(x)\n",
    "        x = self.pool_1(x)\n",
    "\n",
    "        x = self.conv_2(x)\n",
    "        x = self.bn_2(x)\n",
    "        x = self.relu(x)\n",
    "        x = self.pool_2(x)\n",
    "\n",
    "        x = self.conv_3(x)\n",
    "        x = self.bn_3(x)\n",
    "        x = self.relu(x)\n",
    "\n",
    "        x = self.conv_4(x)\n",
    "        x = self.bn_4(x)\n",
    "        x = self.relu(x)\n",
    "        x = self.pool_4(x)\n",
    "\n",
    "        x = self.conv_5(x)\n",
    "        x = self.bn_5(x)\n",
    "        x = self.relu(x)\n",
    "\n",
    "        x = self.conv_6(x)\n",
    "        x = self.bn_6(x)\n",
    "        x = self.relu(x)\n",
    "        x = self.pool_6(x)\n",
    "\n",
    "        x = self.conv_7(x)\n",
    "        x = self.bn_7(x)\n",
    "        x = self.relu(x)\n",
    "\n",
    "        x = x.view(-1, 512 * 2, 40)\n",
    "        x = x.permute(0, 2, 1)\n",
    "\n",
    "        x = self.linear_1(x)\n",
    "        x = self.relu(x)\n",
    "\n",
    "        x = self.linear_2(x)\n",
    "        x = self.relu(x)\n",
    "\n",
    "        x, _ = self.rnn_1(x)\n",
    "        x, _ = self.rnn_2(x)\n",
    "\n",
    "        x = self.dense(x)\n",
    "        return x\n"
   ]
  },
  {
   "cell_type": "code",
   "execution_count": 3,
   "id": "bb594b83",
   "metadata": {},
   "outputs": [],
   "source": [
    "\n",
    "\n",
    "class get_data(torch.utils.data.Dataset):\n",
    "\n",
    "    def __init__(self, data_file, char2int): # data_file: pandas dataframe containing the image path and labels, \n",
    "    \n",
    "        self.image_ids = list(data_file[\"images\"])\n",
    "        self.labels = list(data_file[\"labels\"])\n",
    "        self.char2int = char2int\n",
    "        mean = (0.485, 0.456, 0.406)\n",
    "        std = (0.229, 0.224, 0.225)\n",
    "        self.aug = albumentations.Compose(\n",
    "            [albumentations.Normalize(mean, std,\n",
    "                                      max_pixel_value=255.0,\n",
    "                                      always_apply=True)]\n",
    "        )\n",
    "        self.max_len = data_file[\"labels\"].apply(lambda x: len(x)).max()\n",
    "\n",
    "    def __len__(self):\n",
    "        return len(self.image_ids)\n",
    "\n",
    "    def __getitem__(self, idx):\n",
    "        # Get image id\n",
    "        img_id = self.image_ids[idx]\n",
    "        # Load the image\n",
    "        img = cv2.imread(img_id)\n",
    "        # Normalize the image\n",
    "        augmented = self.aug(image=img)\n",
    "        img = augmented['image']\n",
    "        # Bring channel first\n",
    "        img = img.transpose(2, 0, 1)\n",
    "        # Convert to torch tensor\n",
    "        img = torch.from_numpy(img)\n",
    "\n",
    "        # Get the labels\n",
    "        target = self.labels[idx]\n",
    "        # Convert characters to integers\n",
    "        target = [self.char2int[i] for i in target]\n",
    "        # Length of each target\n",
    "        target_len = torch.LongTensor([len(target)])\n",
    "        # Pad target with zeros to make sure every\n",
    "        # target has equal length\n",
    "        target += [0] * (self.max_len - len(target))\n",
    "        # Convert to torch tensor\n",
    "        target = torch.LongTensor(target)\n",
    "\n",
    "        return img, target, target_len\n"
   ]
  },
  {
   "cell_type": "code",
   "execution_count": 4,
   "id": "203c76af",
   "metadata": {},
   "outputs": [],
   "source": [
    "\n",
    "\n",
    "def train(model, dataloader, criterion, device, optimizer=None, test=False):\n",
    "\n",
    "    if test:\n",
    "        model.eval()\n",
    "    else:\n",
    "        model.train()\n",
    "    loss = []\n",
    "    for inp, tgt, tgt_len in tqdm(dataloader):\n",
    "        inp = inp.to(device)\n",
    "        tgt = tgt.to(device)\n",
    "        target_len = tgt_len.to(device)\n",
    "        # Forward pass\n",
    "        out = model(inp)\n",
    "        out = out.permute(1,0,2)\n",
    "        # Calculate input lengths for the data points\n",
    "        # All have equal length of 40 since all images in\n",
    "        # our dataset are of equal length\n",
    "        input_len = torch.LongTensor([40] * out.shape[1])\n",
    "        # Calculate CTC Loss\n",
    "        log_probs = nn.functional.log_softmax(out, 2)\n",
    "        loss_ = criterion(log_probs, tgt, input_len, target_len)\n",
    "\n",
    "        if not test:\n",
    "            # Update weights during training\n",
    "            optimizer.zero_grad()\n",
    "            loss_.backward()\n",
    "            optimizer.step()\n",
    "\n",
    "        loss.append(loss_.item())\n",
    "\n",
    "    return np.mean(loss)\n"
   ]
  },
  {
   "cell_type": "code",
   "execution_count": 5,
   "id": "59745e9f",
   "metadata": {},
   "outputs": [],
   "source": [
    "epochs = 15\n",
    "batch_size = 32\n",
    "model_path = \"data_255/models/model.pth\"\n",
    "char2int_path = \"data_255/data/char2int.pkl\"\n",
    "int2char_path = \"data_255/data/int2char.pkl\"\n",
    "data_file_path = \"data_255/data/data_file.csv\"\n",
    "image_path = \"data_255/images\"\n",
    "label_path = \"data_255/labels.txt\""
   ]
  },
  {
   "cell_type": "code",
   "execution_count": null,
   "id": "770876bf",
   "metadata": {},
   "outputs": [],
   "source": []
  },
  {
   "cell_type": "code",
   "execution_count": null,
   "id": "e3867335",
   "metadata": {},
   "outputs": [],
   "source": []
  },
  {
   "cell_type": "code",
   "execution_count": null,
   "id": "30be94a2",
   "metadata": {},
   "outputs": [],
   "source": []
  },
  {
   "cell_type": "code",
   "execution_count": 6,
   "id": "92de90d8",
   "metadata": {},
   "outputs": [
    {
     "data": {
      "image/png": "[encoded data removed]",
      "text/plain": [
       "<Figure size 432x288 with 1 Axes>"
      ]
     },
     "metadata": {
      "needs_background": "light"
     },
     "output_type": "display_data"
    }
   ],
   "source": [
    "img = plt.imread(os.path.join(image_path,\"00000017.jpg\"))\n",
    "plt.imshow(img)\n",
    "plt.show()"
   ]
  },
  {
   "cell_type": "code",
   "execution_count": 7,
   "id": "1876e18b",
   "metadata": {},
   "outputs": [],
   "source": [
    "labels = pd.read_table(label_path, header=None)"
   ]
  },
  {
   "cell_type": "code",
   "execution_count": 8,
   "id": "97964bf4",
   "metadata": {},
   "outputs": [
    {
     "data": {
      "text/html": [
       "<div>\n",
       "<style scoped>\n",
       "    .dataframe tbody tr th:only-of-type {\n",
       "        vertical-align: middle;\n",
       "    }\n",
       "\n",
       "    .dataframe tbody tr th {\n",
       "        vertical-align: top;\n",
       "    }\n",
       "\n",
       "    .dataframe thead th {\n",
       "        text-align: right;\n",
       "    }\n",
       "</style>\n",
       "<table border=\"1\" class=\"dataframe\">\n",
       "  <thead>\n",
       "    <tr style=\"text-align: right;\">\n",
       "      <th></th>\n",
       "      <th>0</th>\n",
       "    </tr>\n",
       "  </thead>\n",
       "  <tbody>\n",
       "    <tr>\n",
       "      <th>0</th>\n",
       "      <td>life</td>\n",
       "    </tr>\n",
       "    <tr>\n",
       "      <th>1</th>\n",
       "      <td>not</td>\n",
       "    </tr>\n",
       "    <tr>\n",
       "      <th>2</th>\n",
       "      <td>while</td>\n",
       "    </tr>\n",
       "    <tr>\n",
       "      <th>3</th>\n",
       "      <td>know</td>\n",
       "    </tr>\n",
       "    <tr>\n",
       "      <th>4</th>\n",
       "      <td>clearly</td>\n",
       "    </tr>\n",
       "  </tbody>\n",
       "</table>\n",
       "</div>"
      ],
      "text/plain": [
       "         0\n",
       "0     life\n",
       "1      not\n",
       "2    while\n",
       "3     know\n",
       "4  clearly"
      ]
     },
     "execution_count": 8,
     "metadata": {},
     "output_type": "execute_result"
    }
   ],
   "source": [
    "labels.head()"
   ]
  },
  {
   "cell_type": "code",
   "execution_count": 9,
   "id": "f9e03d58",
   "metadata": {},
   "outputs": [
    {
     "data": {
      "text/plain": [
       "'the'"
      ]
     },
     "execution_count": 9,
     "metadata": {},
     "output_type": "execute_result"
    }
   ],
   "source": [
    "labels.iloc[17,0]"
   ]
  },
  {
   "cell_type": "code",
   "execution_count": 10,
   "id": "5be877db",
   "metadata": {},
   "outputs": [
    {
     "data": {
      "text/plain": [
       "(100000, 1)"
      ]
     },
     "execution_count": 10,
     "metadata": {},
     "output_type": "execute_result"
    }
   ],
   "source": [
    "labels.shape"
   ]
  },
  {
   "cell_type": "markdown",
   "id": "d521520e",
   "metadata": {},
   "source": [
    "### Total number of images"
   ]
  },
  {
   "cell_type": "code",
   "execution_count": 11,
   "id": "24c3a44a",
   "metadata": {},
   "outputs": [],
   "source": [
    "def total_images(image_path):\n",
    "    return len(os.listdir(image_path))\n"
   ]
  },
  {
   "cell_type": "code",
   "execution_count": 12,
   "id": "d6cfde1a",
   "metadata": {},
   "outputs": [
    {
     "data": {
      "text/plain": [
       "100010"
      ]
     },
     "execution_count": 12,
     "metadata": {},
     "output_type": "execute_result"
    }
   ],
   "source": [
    "total_images(image_path)"
   ]
  },
  {
   "cell_type": "code",
   "execution_count": 13,
   "id": "39bf6539",
   "metadata": {},
   "outputs": [],
   "source": [
    "# len(os.listdir(image_path))"
   ]
  },
  {
   "cell_type": "markdown",
   "id": "3d634824",
   "metadata": {},
   "source": [
    "### Find null values in labels"
   ]
  },
  {
   "cell_type": "code",
   "execution_count": 14,
   "id": "8679c966",
   "metadata": {},
   "outputs": [],
   "source": [
    "def check_null():\n",
    "    print(labels.isna().sum())\n",
    "    print(\" \")\n",
    "    print(\"Image id with null values\")\n",
    "    print(labels[labels[0].isna()])"
   ]
  },
  {
   "cell_type": "code",
   "execution_count": 15,
   "id": "7ef0028a",
   "metadata": {},
   "outputs": [
    {
     "name": "stdout",
     "output_type": "stream",
     "text": [
      "0    2\n",
      "dtype: int64\n",
      " \n",
      "Image id with null values\n",
      "         0\n",
      "19198  NaN\n",
      "74347  NaN\n"
     ]
    }
   ],
   "source": [
    "check_null()"
   ]
  },
  {
   "cell_type": "code",
   "execution_count": 16,
   "id": "57111851",
   "metadata": {},
   "outputs": [],
   "source": [
    "\n",
    "# labels.isna().sum()"
   ]
  },
  {
   "cell_type": "code",
   "execution_count": 17,
   "id": "37b4a17c",
   "metadata": {},
   "outputs": [],
   "source": [
    "# labels[labels[0].isna()]"
   ]
  },
  {
   "cell_type": "markdown",
   "id": "1bb89f7b",
   "metadata": {},
   "source": [
    "### Let's check those images"
   ]
  },
  {
   "cell_type": "code",
   "execution_count": 18,
   "id": "fa7213b1",
   "metadata": {},
   "outputs": [
    {
     "data": {
      "image/png": "[encoded data removed]",
      "text/plain": [
       "<Figure size 432x288 with 1 Axes>"
      ]
     },
     "metadata": {
      "needs_background": "light"
     },
     "output_type": "display_data"
    }
   ],
   "source": [
    "img = plt.imread(os.path.join(image_path, \"00019198.jpg\"))\n",
    "plt.imshow(img)\n",
    "plt.show()"
   ]
  },
  {
   "cell_type": "code",
   "execution_count": 19,
   "id": "3db4749e",
   "metadata": {},
   "outputs": [
    {
     "data": {
      "image/png": "[encoded data removed]",
      "text/plain": [
       "<Figure size 432x288 with 1 Axes>"
      ]
     },
     "metadata": {
      "needs_background": "light"
     },
     "output_type": "display_data"
    }
   ],
   "source": [
    "img = plt.imread(os.path.join(image_path, \"00074347.jpg\"))\n",
    "plt.imshow(img)\n",
    "plt.show()"
   ]
  },
  {
   "cell_type": "markdown",
   "id": "456aee06",
   "metadata": {},
   "source": [
    "### Replace those missing values with the string \"null\""
   ]
  },
  {
   "cell_type": "code",
   "execution_count": 20,
   "id": "92b25504",
   "metadata": {},
   "outputs": [],
   "source": [
    "labels.fillna(\"null\", inplace=True)"
   ]
  },
  {
   "cell_type": "markdown",
   "id": "f803d736",
   "metadata": {},
   "source": [
    "### Create a dataframe with image paths and corresponding labels"
   ]
  },
  {
   "cell_type": "code",
   "execution_count": 21,
   "id": "421115fd",
   "metadata": {},
   "outputs": [],
   "source": [
    "input_image = os.listdir(image_path)\n",
    "input_image.sort()\n",
    "input_image = [os.path.join(image_path, i) for i in input_image]"
   ]
  },
  {
   "cell_type": "code",
   "execution_count": 22,
   "id": "05084f69",
   "metadata": {},
   "outputs": [],
   "source": [
    "input_file = pd.DataFrame({\"images\": data_file_path, \"labels\": labels[0]})\n",
    "input_file.to_csv(data_file_path, index=False)"
   ]
  },
  {
   "cell_type": "code",
   "execution_count": 23,
   "id": "12aa0fbe",
   "metadata": {},
   "outputs": [
    {
     "data": {
      "text/html": [
       "<div>\n",
       "<style scoped>\n",
       "    .dataframe tbody tr th:only-of-type {\n",
       "        vertical-align: middle;\n",
       "    }\n",
       "\n",
       "    .dataframe tbody tr th {\n",
       "        vertical-align: top;\n",
       "    }\n",
       "\n",
       "    .dataframe thead th {\n",
       "        text-align: right;\n",
       "    }\n",
       "</style>\n",
       "<table border=\"1\" class=\"dataframe\">\n",
       "  <thead>\n",
       "    <tr style=\"text-align: right;\">\n",
       "      <th></th>\n",
       "      <th>images</th>\n",
       "      <th>labels</th>\n",
       "    </tr>\n",
       "  </thead>\n",
       "  <tbody>\n",
       "    <tr>\n",
       "      <th>0</th>\n",
       "      <td>data_255/data/data_file.csv</td>\n",
       "      <td>life</td>\n",
       "    </tr>\n",
       "    <tr>\n",
       "      <th>1</th>\n",
       "      <td>data_255/data/data_file.csv</td>\n",
       "      <td>not</td>\n",
       "    </tr>\n",
       "    <tr>\n",
       "      <th>2</th>\n",
       "      <td>data_255/data/data_file.csv</td>\n",
       "      <td>while</td>\n",
       "    </tr>\n",
       "    <tr>\n",
       "      <th>3</th>\n",
       "      <td>data_255/data/data_file.csv</td>\n",
       "      <td>know</td>\n",
       "    </tr>\n",
       "    <tr>\n",
       "      <th>4</th>\n",
       "      <td>data_255/data/data_file.csv</td>\n",
       "      <td>clearly</td>\n",
       "    </tr>\n",
       "  </tbody>\n",
       "</table>\n",
       "</div>"
      ],
      "text/plain": [
       "                        images   labels\n",
       "0  data_255/data/data_file.csv     life\n",
       "1  data_255/data/data_file.csv      not\n",
       "2  data_255/data/data_file.csv    while\n",
       "3  data_255/data/data_file.csv     know\n",
       "4  data_255/data/data_file.csv  clearly"
      ]
     },
     "execution_count": 23,
     "metadata": {},
     "output_type": "execute_result"
    }
   ],
   "source": [
    "input_file.head()"
   ]
  },
  {
   "cell_type": "code",
   "execution_count": 24,
   "id": "82001d0f",
   "metadata": {},
   "outputs": [
    {
     "data": {
      "image/png": "[encoded data removed]",
      "text/plain": [
       "<Figure size 432x288 with 1 Axes>"
      ]
     },
     "metadata": {
      "needs_background": "light"
     },
     "output_type": "display_data"
    }
   ],
   "source": [
    "img = plt.imread(os.path.join(image_path, \"00000004.jpg\"))\n",
    "plt.imshow(img)\n",
    "plt.show()"
   ]
  },
  {
   "cell_type": "markdown",
   "id": "37810f1c",
   "metadata": {},
   "source": [
    "### Find the unique characters in the labels"
   ]
  },
  {
   "cell_type": "code",
   "execution_count": 25,
   "id": "af2e7711",
   "metadata": {},
   "outputs": [],
   "source": [
    "uniq_chars = list({l for word in labels[0] for l in word})\n",
    "uniq_chars.sort()"
   ]
  },
  {
   "cell_type": "code",
   "execution_count": 26,
   "id": "6509d39f",
   "metadata": {},
   "outputs": [
    {
     "data": {
      "text/plain": [
       "['#',\n",
       " '$',\n",
       " '%',\n",
       " '&',\n",
       " \"'\",\n",
       " '(',\n",
       " ')',\n",
       " '*',\n",
       " '+',\n",
       " ',',\n",
       " '-',\n",
       " '.',\n",
       " '/',\n",
       " '0',\n",
       " '1',\n",
       " '2',\n",
       " '3',\n",
       " '4',\n",
       " '5',\n",
       " '6',\n",
       " '7',\n",
       " '8',\n",
       " '9',\n",
       " ':',\n",
       " ';',\n",
       " '<',\n",
       " '=',\n",
       " '>',\n",
       " '@',\n",
       " 'A',\n",
       " 'B',\n",
       " 'C',\n",
       " 'D',\n",
       " 'E',\n",
       " 'F',\n",
       " 'G',\n",
       " 'H',\n",
       " 'I',\n",
       " 'J',\n",
       " 'K',\n",
       " 'L',\n",
       " 'M',\n",
       " 'N',\n",
       " 'O',\n",
       " 'P',\n",
       " 'Q',\n",
       " 'R',\n",
       " 'S',\n",
       " 'T',\n",
       " 'U',\n",
       " 'V',\n",
       " 'W',\n",
       " 'X',\n",
       " 'Y',\n",
       " 'Z',\n",
       " 'a',\n",
       " 'b',\n",
       " 'c',\n",
       " 'd',\n",
       " 'e',\n",
       " 'f',\n",
       " 'g',\n",
       " 'h',\n",
       " 'i',\n",
       " 'j',\n",
       " 'k',\n",
       " 'l',\n",
       " 'm',\n",
       " 'n',\n",
       " 'o',\n",
       " 'p',\n",
       " 'q',\n",
       " 'r',\n",
       " 's',\n",
       " 't',\n",
       " 'u',\n",
       " 'v',\n",
       " 'w',\n",
       " 'x',\n",
       " 'y',\n",
       " 'z']"
      ]
     },
     "execution_count": 26,
     "metadata": {},
     "output_type": "execute_result"
    }
   ],
   "source": [
    "uniq_chars"
   ]
  },
  {
   "cell_type": "code",
   "execution_count": 27,
   "id": "5772c151",
   "metadata": {},
   "outputs": [
    {
     "data": {
      "text/plain": [
       "81"
      ]
     },
     "execution_count": 27,
     "metadata": {},
     "output_type": "execute_result"
    }
   ],
   "source": [
    "len(uniq_chars)"
   ]
  },
  {
   "cell_type": "markdown",
   "id": "9402fd67",
   "metadata": {},
   "source": [
    "### Create mapping from characters to integer and integer to character and save them to disc"
   ]
  },
  {
   "cell_type": "code",
   "execution_count": 28,
   "id": "e07f1ef6",
   "metadata": {},
   "outputs": [],
   "source": [
    "char_to_int = {a: i+1 for i, a in enumerate(uniq_chars)}\n",
    "int_to_char = {i+1: a for i, a in enumerate(uniq_chars)}"
   ]
  },
  {
   "cell_type": "code",
   "execution_count": 29,
   "id": "b2a00f70",
   "metadata": {},
   "outputs": [],
   "source": [
    "save_obj(char_to_int, char2int_path)\n",
    "save_obj(int_to_char, int2char_path)"
   ]
  },
  {
   "cell_type": "markdown",
   "id": "b075cfc5",
   "metadata": {},
   "source": [
    "# Training the model"
   ]
  },
  {
   "cell_type": "code",
   "execution_count": 30,
   "id": "6a52b397",
   "metadata": {},
   "outputs": [],
   "source": [
    "device = torch.device(\"cuda:0\" if torch.cuda.is_available() \n",
    "                      else \"cpu\")"
   ]
  },
  {
   "cell_type": "markdown",
   "id": "156ae772",
   "metadata": {},
   "source": [
    "### Split the data into train and validation"
   ]
  },
  {
   "cell_type": "code",
   "execution_count": 31,
   "id": "c26d50b5",
   "metadata": {},
   "outputs": [],
   "source": [
    "train_file, valid_file = train_test_split(input_file, test_size=0.2)"
   ]
  },
  {
   "cell_type": "markdown",
   "id": "9ee43e0d",
   "metadata": {},
   "source": [
    "### Create train and validation datasets"
   ]
  },
  {
   "cell_type": "code",
   "execution_count": 32,
   "id": "3ba8ead3",
   "metadata": {},
   "outputs": [],
   "source": [
    "train_dataset = get_data(train_file, char_to_int)\n",
    "valid_dataset = get_data(valid_file, char_to_int)"
   ]
  },
  {
   "cell_type": "markdown",
   "id": "b8108f10",
   "metadata": {},
   "source": [
    "### Define the loss function"
   ]
  },
  {
   "cell_type": "code",
   "execution_count": 33,
   "id": "c83ac4ab",
   "metadata": {},
   "outputs": [
    {
     "data": {
      "text/plain": [
       "CTCLoss()"
      ]
     },
     "execution_count": 33,
     "metadata": {},
     "output_type": "execute_result"
    }
   ],
   "source": [
    "criterion = nn.CTCLoss(reduction=\"sum\")\n",
    "criterion.to(device)"
   ]
  },
  {
   "cell_type": "markdown",
   "id": "ecb45c4e",
   "metadata": {},
   "source": [
    "### Number of classes"
   ]
  },
  {
   "cell_type": "code",
   "execution_count": 34,
   "id": "1f61b662",
   "metadata": {},
   "outputs": [],
   "source": [
    "n_classes = len(char_to_int)"
   ]
  },
  {
   "cell_type": "markdown",
   "id": "eac16d69",
   "metadata": {},
   "source": [
    "### Create the model object"
   ]
  },
  {
   "cell_type": "code",
   "execution_count": 35,
   "id": "09ce3f6c",
   "metadata": {},
   "outputs": [
    {
     "data": {
      "text/plain": [
       "CRNN_data255(\n",
       "  (relu): LeakyReLU(negative_slope=0.2, inplace=True)\n",
       "  (conv_1): Conv2d(3, 64, kernel_size=(3, 3), stride=(1, 1), padding=(1, 1))\n",
       "  (bn_1): BatchNorm2d(64, eps=1e-05, momentum=0.1, affine=True, track_running_stats=True)\n",
       "  (pool_1): MaxPool2d(kernel_size=(2, 2), stride=(2, 2), padding=0, dilation=1, ceil_mode=False)\n",
       "  (conv_2): Conv2d(64, 128, kernel_size=(3, 3), stride=(1, 1), padding=(1, 1))\n",
       "  (bn_2): BatchNorm2d(128, eps=1e-05, momentum=0.1, affine=True, track_running_stats=True)\n",
       "  (pool_2): MaxPool2d(kernel_size=(2, 2), stride=(2, 2), padding=0, dilation=1, ceil_mode=False)\n",
       "  (conv_3): Conv2d(128, 256, kernel_size=(3, 3), stride=(1, 1), padding=(1, 1))\n",
       "  (bn_3): BatchNorm2d(256, eps=1e-05, momentum=0.1, affine=True, track_running_stats=True)\n",
       "  (conv_4): Conv2d(256, 256, kernel_size=(3, 3), stride=(1, 1), padding=(1, 1))\n",
       "  (bn_4): BatchNorm2d(256, eps=1e-05, momentum=0.1, affine=True, track_running_stats=True)\n",
       "  (pool_4): MaxPool2d(kernel_size=(2, 1), stride=(2, 1), padding=0, dilation=1, ceil_mode=False)\n",
       "  (conv_5): Conv2d(256, 512, kernel_size=(3, 3), stride=(1, 1), padding=(1, 1))\n",
       "  (bn_5): BatchNorm2d(512, eps=1e-05, momentum=0.1, affine=True, track_running_stats=True)\n",
       "  (conv_6): Conv2d(512, 512, kernel_size=(3, 3), stride=(1, 1), padding=(1, 1))\n",
       "  (bn_6): BatchNorm2d(512, eps=1e-05, momentum=0.1, affine=True, track_running_stats=True)\n",
       "  (pool_6): MaxPool2d(kernel_size=(2, 1), stride=(2, 1), padding=0, dilation=1, ceil_mode=False)\n",
       "  (conv_7): Conv2d(512, 512, kernel_size=(3, 3), stride=(1, 1), padding=(1, 1))\n",
       "  (bn_7): BatchNorm2d(512, eps=1e-05, momentum=0.1, affine=True, track_running_stats=True)\n",
       "  (linear_1): Linear(in_features=1024, out_features=64, bias=True)\n",
       "  (linear_2): Linear(in_features=64, out_features=64, bias=True)\n",
       "  (rnn_1): GRU(64, 128, num_layers=2, batch_first=True, dropout=0.25, bidirectional=True)\n",
       "  (rnn_2): GRU(256, 64, num_layers=2, batch_first=True, dropout=0.25, bidirectional=True)\n",
       "  (dense): Linear(in_features=128, out_features=82, bias=True)\n",
       ")"
      ]
     },
     "execution_count": 35,
     "metadata": {},
     "output_type": "execute_result"
    }
   ],
   "source": [
    "model = CRNN_data255(n_classes)\n",
    "model.to(device)"
   ]
  },
  {
   "cell_type": "markdown",
   "id": "699d3728",
   "metadata": {},
   "source": [
    "### Define Optimizer"
   ]
  },
  {
   "cell_type": "code",
   "execution_count": 36,
   "id": "b9451856",
   "metadata": {},
   "outputs": [],
   "source": [
    "optimizer = torch.optim.RMSprop(model.parameters(), lr=0.0005)"
   ]
  },
  {
   "cell_type": "markdown",
   "id": "e36dd6f8",
   "metadata": {},
   "source": [
    "### Define train and validation data loaders"
   ]
  },
  {
   "cell_type": "code",
   "execution_count": 37,
   "id": "a33069a7",
   "metadata": {},
   "outputs": [],
   "source": [
    "train_data = torch.utils.data.DataLoader(train_dataset,\n",
    "                                           batch_size=batch_size,\n",
    "                                           shuffle=True,\n",
    "                                           drop_last=True)\n",
    "\n",
    "valid_data = torch.utils.data.DataLoader(valid_dataset,\n",
    "                                           batch_size=batch_size,\n",
    "                                           shuffle=False,\n",
    "                                           drop_last=False)"
   ]
  },
  {
   "cell_type": "markdown",
   "id": "5925163b",
   "metadata": {},
   "source": [
    "### Training loop"
   ]
  },
  {
   "cell_type": "code",
   "execution_count": null,
   "id": "ac8d74cd",
   "metadata": {},
   "outputs": [],
   "source": []
  },
  {
   "cell_type": "code",
   "execution_count": 38,
   "id": "ec635427",
   "metadata": {},
   "outputs": [],
   "source": [
    "# for i in range(epochs):\n",
    "#     print(f\"Epoch {i+1} of {epochs}...\")\n",
    "#     # Run train function\n",
    "#     train_loss = train(model, train_data, criterion, device, optimizer, test=False)\n",
    "#     # Run validation function\n",
    "#     valid_loss = train(model, valid_data, criterion, device, test=True)\n",
    "#     print(f\"Train Loss: {round(train_loss,4)}, Valid Loss: {round(valid_loss,4)}\")\n",
    "# #     if valid_loss < best_loss:\n",
    "# #         print(\"Validation Loss improved, saving Model File...\")\n",
    "# #         # Save model object\n",
    "# #         torch.save(model.state_dict(), model_path)\n",
    "# #         best_loss = valid_loss"
   ]
  },
  {
   "cell_type": "markdown",
   "id": "76a3aae6",
   "metadata": {},
   "source": [
    "### Loading trained model & Setting model mode to evaluation"
   ]
  },
  {
   "cell_type": "code",
   "execution_count": 39,
   "id": "d2661734",
   "metadata": {},
   "outputs": [
    {
     "data": {
      "text/plain": [
       "CRNN_data255(\n",
       "  (relu): LeakyReLU(negative_slope=0.2, inplace=True)\n",
       "  (conv_1): Conv2d(3, 64, kernel_size=(3, 3), stride=(1, 1), padding=(1, 1))\n",
       "  (bn_1): BatchNorm2d(64, eps=1e-05, momentum=0.1, affine=True, track_running_stats=True)\n",
       "  (pool_1): MaxPool2d(kernel_size=(2, 2), stride=(2, 2), padding=0, dilation=1, ceil_mode=False)\n",
       "  (conv_2): Conv2d(64, 128, kernel_size=(3, 3), stride=(1, 1), padding=(1, 1))\n",
       "  (bn_2): BatchNorm2d(128, eps=1e-05, momentum=0.1, affine=True, track_running_stats=True)\n",
       "  (pool_2): MaxPool2d(kernel_size=(2, 2), stride=(2, 2), padding=0, dilation=1, ceil_mode=False)\n",
       "  (conv_3): Conv2d(128, 256, kernel_size=(3, 3), stride=(1, 1), padding=(1, 1))\n",
       "  (bn_3): BatchNorm2d(256, eps=1e-05, momentum=0.1, affine=True, track_running_stats=True)\n",
       "  (conv_4): Conv2d(256, 256, kernel_size=(3, 3), stride=(1, 1), padding=(1, 1))\n",
       "  (bn_4): BatchNorm2d(256, eps=1e-05, momentum=0.1, affine=True, track_running_stats=True)\n",
       "  (pool_4): MaxPool2d(kernel_size=(2, 1), stride=(2, 1), padding=0, dilation=1, ceil_mode=False)\n",
       "  (conv_5): Conv2d(256, 512, kernel_size=(3, 3), stride=(1, 1), padding=(1, 1))\n",
       "  (bn_5): BatchNorm2d(512, eps=1e-05, momentum=0.1, affine=True, track_running_stats=True)\n",
       "  (conv_6): Conv2d(512, 512, kernel_size=(3, 3), stride=(1, 1), padding=(1, 1))\n",
       "  (bn_6): BatchNorm2d(512, eps=1e-05, momentum=0.1, affine=True, track_running_stats=True)\n",
       "  (pool_6): MaxPool2d(kernel_size=(2, 1), stride=(2, 1), padding=0, dilation=1, ceil_mode=False)\n",
       "  (conv_7): Conv2d(512, 512, kernel_size=(3, 3), stride=(1, 1), padding=(1, 1))\n",
       "  (bn_7): BatchNorm2d(512, eps=1e-05, momentum=0.1, affine=True, track_running_stats=True)\n",
       "  (linear_1): Linear(in_features=1024, out_features=64, bias=True)\n",
       "  (linear_2): Linear(in_features=64, out_features=64, bias=True)\n",
       "  (rnn_1): GRU(64, 128, num_layers=2, batch_first=True, dropout=0.25, bidirectional=True)\n",
       "  (rnn_2): GRU(256, 64, num_layers=2, batch_first=True, dropout=0.25, bidirectional=True)\n",
       "  (dense): Linear(in_features=128, out_features=82, bias=True)\n",
       ")"
      ]
     },
     "execution_count": 39,
     "metadata": {},
     "output_type": "execute_result"
    }
   ],
   "source": [
    "model = CRNN_data255(n_classes)\n",
    "model.load_state_dict(torch.load(model_path, \n",
    "                                map_location=torch.device('cpu')))\n",
    "\n",
    "# Set model mode to evaluation\n",
    "model.eval()"
   ]
  },
  {
   "cell_type": "markdown",
   "id": "919b7c24",
   "metadata": {},
   "source": [
    "# Prediction"
   ]
  },
  {
   "cell_type": "code",
   "execution_count": 40,
   "id": "d222e9ba",
   "metadata": {},
   "outputs": [],
   "source": [
    "test_img = os.path.join(image_path, \"00000007.jpg\")\n",
    "img = cv2.imread(test_img)"
   ]
  },
  {
   "cell_type": "code",
   "execution_count": 41,
   "id": "763f6de1",
   "metadata": {},
   "outputs": [
    {
     "data": {
      "image/png": "[encoded data removed]",
      "text/plain": [
       "<Figure size 432x288 with 1 Axes>"
      ]
     },
     "metadata": {
      "needs_background": "light"
     },
     "output_type": "display_data"
    }
   ],
   "source": [
    "plt.imshow(plt.imread(test_img))\n",
    "plt.show()"
   ]
  },
  {
   "cell_type": "markdown",
   "id": "23988bb9",
   "metadata": {},
   "source": [
    "### Apply augmentations"
   ]
  },
  {
   "cell_type": "code",
   "execution_count": 42,
   "id": "2d8201cd",
   "metadata": {},
   "outputs": [],
   "source": [
    "mean = (0.485, 0.456, 0.406)\n",
    "std = (0.229, 0.224, 0.225)\n",
    "img_aug = albumentations.Compose(\n",
    "        [albumentations.Normalize(mean, std,\n",
    "                                  max_pixel_value=255.0,\n",
    "                                  always_apply=True)]\n",
    "    )\n",
    "aug = img_aug(image=img)\n",
    "img = aug[\"image\"]\n",
    "img = img.transpose(2, 0, 1)\n",
    "img = torch.from_numpy(img)\n",
    "# Create batch dimension (batch of single image)\n",
    "img = torch.unsqueeze(img, 0)\n",
    "# Move the image array to CUDA if available\n",
    "img = img.to(device)"
   ]
  },
  {
   "cell_type": "markdown",
   "id": "14686e1f",
   "metadata": {},
   "source": [
    "### Take model output"
   ]
  },
  {
   "cell_type": "code",
   "execution_count": 43,
   "id": "35427453",
   "metadata": {},
   "outputs": [],
   "source": [
    "out = model(img)"
   ]
  },
  {
   "cell_type": "markdown",
   "id": "6f137d97",
   "metadata": {},
   "source": [
    "### Apply softmax and take label predictions"
   ]
  },
  {
   "cell_type": "code",
   "execution_count": 44,
   "id": "0b3fd42f",
   "metadata": {},
   "outputs": [],
   "source": [
    "out = torch.squeeze(out, 0)\n",
    "out = out.softmax(1)\n",
    "pred = torch.argmax(out, 1)"
   ]
  },
  {
   "cell_type": "code",
   "execution_count": 45,
   "id": "fbb549d0",
   "metadata": {},
   "outputs": [
    {
     "data": {
      "text/plain": [
       "torch.Size([40])"
      ]
     },
     "execution_count": 45,
     "metadata": {},
     "output_type": "execute_result"
    }
   ],
   "source": [
    "pred.shape"
   ]
  },
  {
   "cell_type": "code",
   "execution_count": 46,
   "id": "0cf2c4d4",
   "metadata": {},
   "outputs": [],
   "source": [
    "pred = pred.tolist()"
   ]
  },
  {
   "cell_type": "code",
   "execution_count": 47,
   "id": "ae45a1d4",
   "metadata": {},
   "outputs": [
    {
     "data": {
      "text/plain": [
       "[0,\n",
       " 0,\n",
       " 0,\n",
       " 0,\n",
       " 0,\n",
       " 0,\n",
       " 0,\n",
       " 0,\n",
       " 0,\n",
       " 0,\n",
       " 0,\n",
       " 0,\n",
       " 0,\n",
       " 0,\n",
       " 0,\n",
       " 0,\n",
       " 0,\n",
       " 0,\n",
       " 0,\n",
       " 0,\n",
       " 0,\n",
       " 78,\n",
       " 78,\n",
       " 0,\n",
       " 0,\n",
       " 0,\n",
       " 0,\n",
       " 56,\n",
       " 56,\n",
       " 0,\n",
       " 0,\n",
       " 0,\n",
       " 0,\n",
       " 0,\n",
       " 74,\n",
       " 0,\n",
       " 0,\n",
       " 0,\n",
       " 0,\n",
       " 0]"
      ]
     },
     "execution_count": 47,
     "metadata": {},
     "output_type": "execute_result"
    }
   ],
   "source": [
    "pred"
   ]
  },
  {
   "cell_type": "code",
   "execution_count": 48,
   "id": "97b8571e",
   "metadata": {},
   "outputs": [
    {
     "data": {
      "text/plain": [
       "'t'"
      ]
     },
     "execution_count": 48,
     "metadata": {},
     "output_type": "execute_result"
    }
   ],
   "source": [
    "int_to_char[75]"
   ]
  },
  {
   "cell_type": "code",
   "execution_count": 49,
   "id": "edc4033e",
   "metadata": {},
   "outputs": [],
   "source": [
    "int_to_char[0] = \"jsp\""
   ]
  },
  {
   "cell_type": "markdown",
   "id": "97aa70ad",
   "metadata": {},
   "source": [
    "### Convert integer predictions to string"
   ]
  },
  {
   "cell_type": "code",
   "execution_count": 50,
   "id": "f3aa5192",
   "metadata": {},
   "outputs": [],
   "source": [
    "output = [int_to_char[i] for i in pred]"
   ]
  },
  {
   "cell_type": "code",
   "execution_count": 51,
   "id": "aa5cca0b",
   "metadata": {},
   "outputs": [
    {
     "data": {
      "text/plain": [
       "['jsp',\n",
       " 'jsp',\n",
       " 'jsp',\n",
       " 'jsp',\n",
       " 'jsp',\n",
       " 'jsp',\n",
       " 'jsp',\n",
       " 'jsp',\n",
       " 'jsp',\n",
       " 'jsp',\n",
       " 'jsp',\n",
       " 'jsp',\n",
       " 'jsp',\n",
       " 'jsp',\n",
       " 'jsp',\n",
       " 'jsp',\n",
       " 'jsp',\n",
       " 'jsp',\n",
       " 'jsp',\n",
       " 'jsp',\n",
       " 'jsp',\n",
       " 'w',\n",
       " 'w',\n",
       " 'jsp',\n",
       " 'jsp',\n",
       " 'jsp',\n",
       " 'jsp',\n",
       " 'a',\n",
       " 'a',\n",
       " 'jsp',\n",
       " 'jsp',\n",
       " 'jsp',\n",
       " 'jsp',\n",
       " 'jsp',\n",
       " 's',\n",
       " 'jsp',\n",
       " 'jsp',\n",
       " 'jsp',\n",
       " 'jsp',\n",
       " 'jsp']"
      ]
     },
     "execution_count": 51,
     "metadata": {},
     "output_type": "execute_result"
    }
   ],
   "source": [
    "output"
   ]
  },
  {
   "cell_type": "markdown",
   "id": "1c116074",
   "metadata": {},
   "source": [
    "### Collapse the output"
   ]
  },
  {
   "cell_type": "code",
   "execution_count": 52,
   "id": "7c443674",
   "metadata": {},
   "outputs": [],
   "source": [
    "def result():\n",
    "    result = list()\n",
    "    result.append(output[0])\n",
    "    for i in range(1, len(output)):\n",
    "        if output[i] != output[i - 1]:\n",
    "            result.append(output[i])\n",
    "    result = [i for i in result if i != \"jsp\"]\n",
    "    result = \"\".join(result)\n",
    "    return result"
   ]
  },
  {
   "cell_type": "code",
   "execution_count": 55,
   "id": "3297b97d",
   "metadata": {},
   "outputs": [
    {
     "name": "stdout",
     "output_type": "stream",
     "text": [
      "was\n"
     ]
    }
   ],
   "source": [
    "result= result()\n",
    "print(result)"
   ]
  },
  {
   "cell_type": "code",
   "execution_count": 56,
   "id": "8dcc5fae",
   "metadata": {},
   "outputs": [
    {
     "name": "stdout",
     "output_type": "stream",
     "text": [
      "0.0\n"
     ]
    },
    {
     "data": {
      "text/plain": [
       "0.0"
      ]
     },
     "execution_count": 56,
     "metadata": {},
     "output_type": "execute_result"
    }
   ],
   "source": [
    "import fastwer\n",
    "l = ['was'] # for testing purpose we have changed it manually\n",
    "r = [str(result)]\n",
    "# Corpus-Level WER\n",
    "print(fastwer.score(l, r))\n",
    "# Corpus-Level CER\n",
    "fastwer.score(l, r, char_level=True)"
   ]
  },
  {
   "cell_type": "code",
   "execution_count": null,
   "id": "7421465b",
   "metadata": {},
   "outputs": [],
   "source": []
  }
 ],
 "metadata": {
  "kernelspec": {
   "display_name": "Python 3 (ipykernel)",
   "language": "python",
   "name": "python3"
  },
  "language_info": {
   "codemirror_mode": {
    "name": "ipython",
    "version": 3
   },
   "file_extension": ".py",
   "mimetype": "text/x-python",
   "name": "python",
   "nbconvert_exporter": "python",
   "pygments_lexer": "ipython3",
   "version": "3.9.7"
  }
 },
 "nbformat": 4,
 "nbformat_minor": 5
}

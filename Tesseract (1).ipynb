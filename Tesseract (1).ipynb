{
 "cells": [
  {
   "cell_type": "code",
   "execution_count": null,
   "id": "a7473452",
   "metadata": {},
   "outputs": [],
   "source": [
    "import pytesseract\n",
    "import cv2\n",
    "import os\n",
    "import numpy as np\n",
    "import matplotlib.pyplot as plt\n",
    "from PIL import Image"
   ]
  },
  {
   "cell_type": "code",
   "execution_count": null,
   "id": "2fe8264a",
   "metadata": {},
   "outputs": [],
   "source": [
    "pytesseract.pytesseract.tesseract_cmd = r'C:\\Program Files\\Tesseract-OCR\\tesseract.exe'"
   ]
  },
  {
   "cell_type": "markdown",
   "id": "a091a840",
   "metadata": {},
   "source": [
    "### Below cell can be used to resize the image"
   ]
  },
  {
   "cell_type": "code",
   "execution_count": null,
   "id": "1f2b818d",
   "metadata": {},
   "outputs": [],
   "source": [
    "# down_width = 160\n",
    "# down_height = 40\n",
    "# down_points = (down_width, down_height)\n",
    "# img = cv2.resize(img, down_points, interpolation= cv2.INTER_LINEAR)\n",
    "# cv2.imshow('image',img)\n",
    "# cv2.waitKey(0)\n",
    "# cv2.destroyAllWindows()"
   ]
  },
  {
   "cell_type": "code",
   "execution_count": null,
   "id": "6b668208",
   "metadata": {},
   "outputs": [],
   "source": [
    "no_filter = []\n",
    "blur1 = []\n",
    "thres = []\n",
    "adap_thres = []\n",
    "inverted = []\n",
    "noise_removed = []"
   ]
  },
  {
   "cell_type": "code",
   "execution_count": null,
   "id": "cc34f34b",
   "metadata": {},
   "outputs": [],
   "source": [
    "import numpy as np\n",
    "\n",
    "def noise_removal(image):\n",
    "    kernel = np.ones((1, 1), np.uint8)\n",
    "    image = cv2.dilate(image, kernel, iterations=1)\n",
    "    kernel = np.ones((1, 1), np.uint8)\n",
    "    image = cv2.erode(image, kernel, iterations=1)\n",
    "    image = cv2.morphologyEx(image, cv2.MORPH_CLOSE, kernel)\n",
    "    image = cv2.medianBlur(image, 3)\n",
    "    return (image)"
   ]
  },
  {
   "cell_type": "code",
   "execution_count": null,
   "id": "4d7f075a",
   "metadata": {},
   "outputs": [],
   "source": [
    "#commented the image displaying method reduce the execution time\n",
    "import os, glob\n",
    "import cv2\n",
    "images = [cv2.imread(file,0) for file in glob.glob(r'C:\\Users\\Jashwanth\\Documents\\Data mining\\Project\\data\\images/*.jpg')]\n",
    "for i in images:\n",
    "#     cv2.imshow('image',img)\n",
    "#     cv2.waitKey(0)\n",
    "#     cv2.destroyAllWindows()\n",
    "    data = pytesseract.image_to_string(i, lang='eng', config='--psm 7')\n",
    "#     print(data)\n",
    "    no_filter.append(data.rstrip())\n",
    "    \n",
    "    \n",
    "    blur = cv2.GaussianBlur(i, (3,3), 0)\n",
    "#     cv2.imshow(\"blurred_image\",blur)\n",
    "#     cv2.waitKey(0)\n",
    "#     cv2.destroyAllWindows()\n",
    "    data = pytesseract.image_to_string(blur, lang='eng', config='--psm 7')\n",
    "#     print(data)\n",
    "    blur1.append(data.rstrip())\n",
    "    \n",
    "    \n",
    "    \n",
    "    thresh = cv2.threshold(blur, 0, 255, cv2.THRESH_BINARY_INV + cv2.THRESH_OTSU)[1]\n",
    "#     cv2.imshow(\"threshold_image\",thresh)\n",
    "#     cv2.waitKey(0)\n",
    "#     cv2.destroyAllWindows()\n",
    "    data = pytesseract.image_to_string(thresh, lang='eng', config='--psm 7')\n",
    "#     print(data)\n",
    "    thres.append(data.rstrip())\n",
    "    \n",
    "    adap_thrs = cv2.adaptiveThreshold(i,255,cv2.ADAPTIVE_THRESH_GAUSSIAN_C,cv2.THRESH_BINARY,91,31)\n",
    "#     cv2.imshow(\"adap_thresh_image\",adap_thrs)\n",
    "#     cv2.waitKey(0)\n",
    "#     cv2.destroyAllWindows()\n",
    "    data = pytesseract.image_to_string(adap_thrs, lang='eng', config='--psm 7')\n",
    "#     print(data)\n",
    "    adap_thres.append(data.rstrip())\n",
    "    \n",
    "    kernel = cv2.getStructuringElement(cv2.MORPH_RECT, (3,3))\n",
    "    opening = cv2.morphologyEx(thresh, cv2.MORPH_OPEN, kernel, iterations=1)\n",
    "    invert = 255 - opening\n",
    "#     cv2.imshow(\"inverted_image\",invert)\n",
    "#     cv2.waitKey(0)\n",
    "#     cv2.destroyAllWindows()\n",
    "    data = pytesseract.image_to_string(invert, lang='eng', config='--psm 7')\n",
    "#     print(data)\n",
    "    inverted.append(data.rstrip())\n",
    "    \n",
    "#     no_noise = noise_removal(i)\n",
    "#     img = noise_removal(no_noise)\n",
    "#     cv2.imshow(\"noise_removed_image\",no_noise)\n",
    "#     cv2.waitKey(0)\n",
    "#     cv2.destroyAllWindows()\n",
    "#     data = pytesseract.image_to_string(img, lang='eng', config='--psm 7')\n",
    "#     print(data)\n",
    "#     noise_removed.append(data)"
   ]
  },
  {
   "cell_type": "code",
   "execution_count": null,
   "id": "c3edea00",
   "metadata": {},
   "outputs": [],
   "source": [
    "len(blur1)"
   ]
  },
  {
   "cell_type": "code",
   "execution_count": null,
   "id": "9b3404bc",
   "metadata": {},
   "outputs": [],
   "source": [
    "import pandas as pd\n",
    "import re"
   ]
  },
  {
   "cell_type": "code",
   "execution_count": null,
   "id": "ccd1f10d",
   "metadata": {},
   "outputs": [],
   "source": [
    "#appending the data to a dataframe, to comapre the results\n",
    "nf = pd.DataFrame(no_filter)\n",
    "nf = nf.replace('\\n','', regex=True)\n",
    "nf = nf[0].map(lambda x: re.sub(r'\\W+', '', x))\n",
    "blr = pd.DataFrame(blur1)\n",
    "blr = blr.replace('\\n','', regex=True)\n",
    "blr = blr[0].map(lambda x: re.sub(r'\\W+', '', x))\n",
    "thrs = pd.DataFrame(thres)\n",
    "thrs = thrs.replace('\\n','', regex=True)\n",
    "thrs = thrs[0].map(lambda x: re.sub(r'\\W+', '', x))\n",
    "adap_th= pd.DataFrame(adap_thres)\n",
    "adap_th = adap_th.replace('\\n','', regex=True)\n",
    "adap_th = adap_th[0].map(lambda x: re.sub(r'\\W+', '', x))\n",
    "inver = pd.DataFrame(inverted)\n",
    "inver = inver.replace('\\n','', regex=True)\n",
    "inver = inver[0].map(lambda x: re.sub(r'\\W+', '', x))"
   ]
  },
  {
   "cell_type": "code",
   "execution_count": null,
   "id": "3e072e82",
   "metadata": {},
   "outputs": [],
   "source": [
    "#displaying the dataframe to understand how the results are stored\n",
    "nf.tail(10)\n",
    "blr.head(10)"
   ]
  },
  {
   "cell_type": "code",
   "execution_count": null,
   "id": "d5a70f02",
   "metadata": {},
   "outputs": [],
   "source": [
    "#importing the labels into a dataframe\n",
    "labels = pd.read_csv(\"labels.txt\", sep=\" \",names = ['labels'])\n",
    "l = labels.head(2001)"
   ]
  },
  {
   "cell_type": "code",
   "execution_count": null,
   "id": "2bc73c8f",
   "metadata": {},
   "outputs": [],
   "source": []
  },
  {
   "cell_type": "code",
   "execution_count": null,
   "id": "cec0e21c",
   "metadata": {},
   "outputs": [],
   "source": []
  },
  {
   "cell_type": "code",
   "execution_count": null,
   "id": "43321189",
   "metadata": {},
   "outputs": [],
   "source": [
    "# calculating accuracy\n",
    "#results might vary since the folder contains image with striked words which tesseract couln't detect the text\n",
    "from sklearn.metrics import accuracy_score\n",
    "print(\"accuracy\",accuracy_score(l,nf))\n",
    "print(\"Blur accuracy\",accuracy_score(l,blr))\n",
    "print(\"Threshold accuracy\",accuracy_score(l,thrs1))\n",
    "print(\"AdapThreshold accuracy\",accuracy_score(l,adap_th))\n",
    "print(\"Inverted accuracy\",accuracy_score(l,inver))"
   ]
  },
  {
   "cell_type": "code",
   "execution_count": null,
   "id": "34f286ed",
   "metadata": {},
   "outputs": [],
   "source": []
  }
 ],
 "metadata": {
  "kernelspec": {
   "display_name": "Python 3 (ipykernel)",
   "language": "python",
   "name": "python3"
  },
  "language_info": {
   "codemirror_mode": {
    "name": "ipython",
    "version": 3
   },
   "file_extension": ".py",
   "mimetype": "text/x-python",
   "name": "python",
   "nbconvert_exporter": "python",
   "pygments_lexer": "ipython3",
   "version": "3.9.7"
  }
 },
 "nbformat": 4,
 "nbformat_minor": 5
}
